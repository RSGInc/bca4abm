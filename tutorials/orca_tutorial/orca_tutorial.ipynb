{
 "cells": [
  {
   "cell_type": "code",
   "execution_count": 1,
   "metadata": {},
   "outputs": [],
   "source": [
    "%load_ext autoreload\n",
    "%autoreload 2"
   ]
  },
  {
   "cell_type": "code",
   "execution_count": 22,
   "metadata": {},
   "outputs": [
    {
     "name": "stdout",
     "output_type": "stream",
     "text": [
      "/Users/jeff.doyle/work/bca4abm/tutorials/output\n"
     ]
    }
   ],
   "source": [
    "cd ../output"
   ]
  },
  {
   "cell_type": "code",
   "execution_count": 3,
   "metadata": {},
   "outputs": [],
   "source": [
    "import orca\n",
    "import pandas as pd\n",
    "import numpy as np\n",
    "import os"
   ]
  },
  {
   "cell_type": "code",
   "execution_count": 4,
   "metadata": {},
   "outputs": [
    {
     "data": {
      "text/html": [
       "<div>\n",
       "<table border=\"1\" class=\"dataframe\">\n",
       "  <thead>\n",
       "    <tr style=\"text-align: right;\">\n",
       "      <th></th>\n",
       "      <th>age_rate</th>\n",
       "      <th>species_name</th>\n",
       "    </tr>\n",
       "  </thead>\n",
       "  <tbody>\n",
       "    <tr>\n",
       "      <th>D</th>\n",
       "      <td>7</td>\n",
       "      <td>dog</td>\n",
       "    </tr>\n",
       "    <tr>\n",
       "      <th>C</th>\n",
       "      <td>5</td>\n",
       "      <td>cat</td>\n",
       "    </tr>\n",
       "  </tbody>\n",
       "</table>\n",
       "</div>"
      ]
     },
     "output_type": "execute_result",
     "metadata": {}
    }
   ],
   "source": [
    "df_species = pd.DataFrame(\n",
    "    {'species_name': ['dog', 'cat'],\n",
    "    'age_rate': [7, 5]},\n",
    "    index=['D', 'C'])\n",
    "\n",
    "df_species"
   ]
  },
  {
   "cell_type": "code",
   "execution_count": 5,
   "metadata": {},
   "outputs": [
    {
     "data": {
      "text/html": [
       "<div>\n",
       "<table border=\"1\" class=\"dataframe\">\n",
       "  <thead>\n",
       "    <tr style=\"text-align: right;\">\n",
       "      <th></th>\n",
       "      <th>age</th>\n",
       "      <th>pet_name</th>\n",
       "      <th>species_id</th>\n",
       "    </tr>\n",
       "  </thead>\n",
       "  <tbody>\n",
       "    <tr>\n",
       "      <th>p0</th>\n",
       "      <td>0</td>\n",
       "      <td>wilkie</td>\n",
       "      <td>D</td>\n",
       "    </tr>\n",
       "    <tr>\n",
       "      <th>p1</th>\n",
       "      <td>0</td>\n",
       "      <td>lassie</td>\n",
       "      <td>D</td>\n",
       "    </tr>\n",
       "    <tr>\n",
       "      <th>p2</th>\n",
       "      <td>0</td>\n",
       "      <td>leo</td>\n",
       "      <td>C</td>\n",
       "    </tr>\n",
       "    <tr>\n",
       "      <th>p3</th>\n",
       "      <td>0</td>\n",
       "      <td>felix</td>\n",
       "      <td>C</td>\n",
       "    </tr>\n",
       "    <tr>\n",
       "      <th>p4</th>\n",
       "      <td>0</td>\n",
       "      <td>rex</td>\n",
       "      <td>D</td>\n",
       "    </tr>\n",
       "  </tbody>\n",
       "</table>\n",
       "</div>"
      ]
     },
     "output_type": "execute_result",
     "metadata": {}
    }
   ],
   "source": [
    "df_pet = pd.DataFrame(\n",
    "    {'pet_name': ['wilkie', 'lassie', 'leo', 'felix', 'rex' ],\n",
    "    'age': [0, 0, 0, 0, 0 ],\n",
    "     'species_id': ['D', 'D', 'C', 'C', 'D']},\n",
    "    index=['p0', 'p1', 'p2', 'p3', 'p4'])\n",
    "\n",
    "df_pet"
   ]
  },
  {
   "cell_type": "code",
   "execution_count": 6,
   "metadata": {},
   "outputs": [
    {
     "data": {
      "text/html": [
       "<div>\n",
       "<table border=\"1\" class=\"dataframe\">\n",
       "  <thead>\n",
       "    <tr style=\"text-align: right;\">\n",
       "      <th></th>\n",
       "      <th>age</th>\n",
       "      <th>pet_name</th>\n",
       "      <th>species_id</th>\n",
       "      <th>age_rate</th>\n",
       "      <th>species_name</th>\n",
       "    </tr>\n",
       "  </thead>\n",
       "  <tbody>\n",
       "    <tr>\n",
       "      <th>p0</th>\n",
       "      <td>0</td>\n",
       "      <td>wilkie</td>\n",
       "      <td>D</td>\n",
       "      <td>7</td>\n",
       "      <td>dog</td>\n",
       "    </tr>\n",
       "    <tr>\n",
       "      <th>p1</th>\n",
       "      <td>0</td>\n",
       "      <td>lassie</td>\n",
       "      <td>D</td>\n",
       "      <td>7</td>\n",
       "      <td>dog</td>\n",
       "    </tr>\n",
       "    <tr>\n",
       "      <th>p4</th>\n",
       "      <td>0</td>\n",
       "      <td>rex</td>\n",
       "      <td>D</td>\n",
       "      <td>7</td>\n",
       "      <td>dog</td>\n",
       "    </tr>\n",
       "    <tr>\n",
       "      <th>p2</th>\n",
       "      <td>0</td>\n",
       "      <td>leo</td>\n",
       "      <td>C</td>\n",
       "      <td>5</td>\n",
       "      <td>cat</td>\n",
       "    </tr>\n",
       "    <tr>\n",
       "      <th>p3</th>\n",
       "      <td>0</td>\n",
       "      <td>felix</td>\n",
       "      <td>C</td>\n",
       "      <td>5</td>\n",
       "      <td>cat</td>\n",
       "    </tr>\n",
       "  </tbody>\n",
       "</table>\n",
       "</div>"
      ]
     },
     "output_type": "execute_result",
     "metadata": {}
    }
   ],
   "source": [
    "# register the tables\n",
    "orca.add_table('species', df_species)\n",
    "orca.add_table('pets', df_pet)\n",
    "\n",
    "# broadcast merge\n",
    "orca.broadcast(cast='species', onto='pets', cast_index=True, onto_on='species_id')\n",
    "\n",
    "### this is the merged table\n",
    "orca.merge_tables('pets', tables=['pets', 'species'], columns=['pet_name', 'age', 'species_name', 'age_rate'])"
   ]
  },
  {
   "cell_type": "code",
   "execution_count": 7,
   "metadata": {},
   "outputs": [],
   "source": [
    "# this is a common merge so might as well define it once here and use it\n",
    "@orca.table()\n",
    "def pets_merged(pets, species):\n",
    "    return orca.merge_tables(pets.name,\n",
    "        tables=[pets, species],\n",
    "        columns=['pet_name', 'age', 'species_name', 'age_rate'])"
   ]
  },
  {
   "cell_type": "code",
   "execution_count": 8,
   "metadata": {},
   "outputs": [
    {
     "data": {
      "text/html": [
       "<div>\n",
       "<table border=\"1\" class=\"dataframe\">\n",
       "  <thead>\n",
       "    <tr style=\"text-align: right;\">\n",
       "      <th></th>\n",
       "      <th>age</th>\n",
       "      <th>pet_name</th>\n",
       "      <th>species_id</th>\n",
       "      <th>age_rate</th>\n",
       "      <th>species_name</th>\n",
       "    </tr>\n",
       "  </thead>\n",
       "  <tbody>\n",
       "    <tr>\n",
       "      <th>p0</th>\n",
       "      <td>0</td>\n",
       "      <td>wilkie</td>\n",
       "      <td>D</td>\n",
       "      <td>7</td>\n",
       "      <td>dog</td>\n",
       "    </tr>\n",
       "    <tr>\n",
       "      <th>p1</th>\n",
       "      <td>0</td>\n",
       "      <td>lassie</td>\n",
       "      <td>D</td>\n",
       "      <td>7</td>\n",
       "      <td>dog</td>\n",
       "    </tr>\n",
       "    <tr>\n",
       "      <th>p4</th>\n",
       "      <td>0</td>\n",
       "      <td>rex</td>\n",
       "      <td>D</td>\n",
       "      <td>7</td>\n",
       "      <td>dog</td>\n",
       "    </tr>\n",
       "    <tr>\n",
       "      <th>p2</th>\n",
       "      <td>0</td>\n",
       "      <td>leo</td>\n",
       "      <td>C</td>\n",
       "      <td>5</td>\n",
       "      <td>cat</td>\n",
       "    </tr>\n",
       "    <tr>\n",
       "      <th>p3</th>\n",
       "      <td>0</td>\n",
       "      <td>felix</td>\n",
       "      <td>C</td>\n",
       "      <td>5</td>\n",
       "      <td>cat</td>\n",
       "    </tr>\n",
       "  </tbody>\n",
       "</table>\n",
       "</div>"
      ]
     },
     "output_type": "execute_result",
     "metadata": {}
    }
   ],
   "source": [
    "# this is the orca registered version of the merged table\n",
    "orca.get_table('pets_merged').to_frame()"
   ]
  },
  {
   "cell_type": "code",
   "execution_count": 9,
   "metadata": {},
   "outputs": [],
   "source": [
    "# create a step to age pets at a rate appropriate to their species\n",
    "@orca.step()\n",
    "def age_simulate(pets):\n",
    "    new_age = pets.age + orca.get_table('pets_merged').age_rate\n",
    "    pets.update_col_from_series('age', new_age)\n",
    "\n",
    "# create a second step to illustrate how pipelining works\n",
    "@orca.step()\n",
    "def summarize(pets, iter_var):\n",
    "    print '*** i = {} ***'.format(iter_var)\n",
    "    print pets.to_frame()[['pet_name', 'age']]"
   ]
  },
  {
   "cell_type": "code",
   "execution_count": 11,
   "metadata": {},
   "outputs": [
    {
     "name": "stdout",
     "output_type": "stream",
     "text": [
      "Running iteration 1 with iteration value 2010\nRunning step 'age_simulate'\nTime to execute step 'age_simulate': 0.00 s\nRunning step 'summarize'\n*** i = 2010 ***\n   pet_name  age\np0   wilkie    7\np1   lassie    7\np2      leo    5\np3    felix    5\np4      rex    7\nTime to execute step 'summarize': 0.00 s\nTotal time to execute iteration 1 with iteration value 2010: 0.01 s\nRunning iteration 2 with iteration value 2011\nRunning step 'age_simulate'\nTime to execute step 'age_simulate': 0.00 s\nRunning step 'summarize'\n*** i = 2011 ***\n   pet_name  age\np0   wilkie   14\np1   lassie   14\np2      leo   10\np3    felix   10\np4      rex   14\nTime to execute step 'summarize': 0.00 s\nTotal time to execute iteration 2 with iteration value 2011: 0.01 s\nRunning iteration 3 with iteration value 2012\nRunning step 'age_simulate'\nTime to execute step 'age_simulate': 0.01 s\nRunning step 'summarize'\n*** i = 2012 ***\n   pet_name  age\np0   wilkie   21\np1   lassie   21\np2      leo   15\np3    felix   15\np4      rex   21\nTime to execute step 'summarize': 0.00 s\nTotal time to execute iteration 3 with iteration value 2012: 0.01 s\nRunning iteration 4 with iteration value 2013\nRunning step 'age_simulate'\nTime to execute step 'age_simulate': 0.00 s\nRunning step 'summarize'\n*** i = 2013 ***\n   pet_name  age\np0   wilkie   28\np1   lassie   28\np2      leo   20\np3    felix   20\np4      rex   28"
     ]
    },
    {
     "name": "stdout",
     "output_type": "stream",
     "text": [
      "\nTime to execute step 'summarize': 0.00 s\nTotal time to execute iteration 4 with iteration value 2013: 0.01 s\nRunning iteration 5 with iteration value 2014\nRunning step 'age_simulate'\nTime to execute step 'age_simulate': 0.00 s\nRunning step 'summarize'\n*** i = 2014 ***\n   pet_name  age\np0   wilkie   35\np1   lassie   35\np2      leo   25\np3    felix   25\np4      rex   35\nTime to execute step 'summarize': 0.00 s\nTotal time to execute iteration 5 with iteration value 2014: 0.01 s\n"
     ]
    }
   ],
   "source": [
    "# now lets run an orca pipeline\n",
    "\n",
    "# data_out (optional) is the filename of pandas HDF data store to which all tables injected into any step will be saved\n",
    "hdf_output_filename = 'run_orca.h5'\n",
    "orca.run(['age_simulate', 'summarize'], iter_vars=range(2010, 2015), data_out=hdf_output_filename)"
   ]
  },
  {
   "cell_type": "code",
   "execution_count": 12,
   "metadata": {},
   "outputs": [
    {
     "data": {
      "text/plain": [
       "<class 'pandas.io.pytables.HDFStore'>\nFile path: run_orca.h5\n/2011/pets            frame        (shape->[5,3])\n/2012/pets            frame        (shape->[5,3])\n/2013/pets            frame        (shape->[5,3])\n/2014/pets            frame        (shape->[5,3])\n/base/pets            frame        (shape->[5,3])"
      ]
     },
     "execution_count": 12,
     "output_type": "execute_result",
     "metadata": {}
    }
   ],
   "source": [
    "# lets inspect the output\n",
    "store = pd.HDFStore(hdf_output_filename)\n",
    "store"
   ]
  },
  {
   "cell_type": "code",
   "execution_count": 13,
   "metadata": {},
   "outputs": [
    {
     "data": {
      "text/html": [
       "<div>\n",
       "<table border=\"1\" class=\"dataframe\">\n",
       "  <thead>\n",
       "    <tr style=\"text-align: right;\">\n",
       "      <th></th>\n",
       "      <th>age</th>\n",
       "      <th>pet_name</th>\n",
       "      <th>species_id</th>\n",
       "    </tr>\n",
       "  </thead>\n",
       "  <tbody>\n",
       "    <tr>\n",
       "      <th>p0</th>\n",
       "      <td>35</td>\n",
       "      <td>wilkie</td>\n",
       "      <td>D</td>\n",
       "    </tr>\n",
       "    <tr>\n",
       "      <th>p1</th>\n",
       "      <td>35</td>\n",
       "      <td>lassie</td>\n",
       "      <td>D</td>\n",
       "    </tr>\n",
       "    <tr>\n",
       "      <th>p2</th>\n",
       "      <td>25</td>\n",
       "      <td>leo</td>\n",
       "      <td>C</td>\n",
       "    </tr>\n",
       "    <tr>\n",
       "      <th>p3</th>\n",
       "      <td>25</td>\n",
       "      <td>felix</td>\n",
       "      <td>C</td>\n",
       "    </tr>\n",
       "    <tr>\n",
       "      <th>p4</th>\n",
       "      <td>35</td>\n",
       "      <td>rex</td>\n",
       "      <td>D</td>\n",
       "    </tr>\n",
       "  </tbody>\n",
       "</table>\n",
       "</div>"
      ]
     },
     "output_type": "execute_result",
     "metadata": {}
    }
   ],
   "source": [
    "store['/2014/pets']"
   ]
  },
  {
   "cell_type": "code",
   "execution_count": null,
   "metadata": {},
   "outputs": [],
   "source": [
    "store.close()"
   ]
  },
  {
   "cell_type": "code",
   "execution_count": null,
   "metadata": {},
   "outputs": [],
   "source": [
    ""
   ]
  }
 ],
 "metadata": {
  "kernelspec": {
   "display_name": "Python 2",
   "language": "python",
   "name": "python2"
  },
  "language_info": {
   "codemirror_mode": {
    "name": "ipython",
    "version": 2.0
   },
   "file_extension": ".py",
   "mimetype": "text/x-python",
   "name": "python",
   "nbconvert_exporter": "python",
   "pygments_lexer": "ipython2",
   "version": "2.7.11"
  }
 },
 "nbformat": 4,
 "nbformat_minor": 0
}